{
 "cells": [
  {
   "cell_type": "markdown",
   "metadata": {},
   "source": [
    "## Portfolio Exercise: Starbucks\n",
    "<br>\n",
    "\n",
    "<img src=\"https://opj.ca/wp-content/uploads/2018/02/New-Starbucks-Logo-1200x969.jpg\" width=\"200\" height=\"200\">\n",
    "<br>\n",
    "<br>\n",
    " \n",
    "#### Background Information\n",
    "\n",
    "The dataset you will be provided in this portfolio exercise was originally used as a take-home assignment provided by Starbucks for their job candidates. The data for this exercise consists of about 120,000 data points split in a 2:1 ratio among training and test files. In the experiment simulated by the data, an advertising promotion was tested to see if it would bring more customers to purchase a specific product priced at $10. Since it costs the company 0.15 to send out each promotion, it would be best to limit that promotion only to those that are most receptive to the promotion. Each data point includes one column indicating whether or not an individual was sent a promotion for the product, and one column indicating whether or not that individual eventually purchased that product. Each individual also has seven additional features associated with them, which are provided abstractly as V1-V7.\n",
    "\n",
    "#### Optimization Strategy\n",
    "\n",
    "Your task is to use the training data to understand what patterns in V1-V7 to indicate that a promotion should be provided to a user. Specifically, your goal is to maximize the following metrics:\n",
    "\n",
    "* **Incremental Response Rate (IRR)** \n",
    "\n",
    "IRR depicts how many more customers purchased the product with the promotion, as compared to if they didn't receive the promotion. Mathematically, it's the ratio of the number of purchasers in the promotion group to the total number of customers in the purchasers group (_treatment_) minus the ratio of the number of purchasers in the non-promotional group to the total number of customers in the non-promotional group (_control_).\n",
    "\n",
    "$$ IRR = \\frac{purch_{treat}}{cust_{treat}} - \\frac{purch_{ctrl}}{cust_{ctrl}} $$\n",
    "\n",
    "\n",
    "* **Net Incremental Revenue (NIR)**\n",
    "\n",
    "NIR depicts how much is made (or lost) by sending out the promotion. Mathematically, this is 10 times the total number of purchasers that received the promotion minus 0.15 times the number of promotions sent out, minus 10 times the number of purchasers who were not given the promotion.\n",
    "\n",
    "$$ NIR = (10\\cdot purch_{treat} - 0.15 \\cdot cust_{treat}) - 10 \\cdot purch_{ctrl}$$\n",
    "\n",
    "For a full description of what Starbucks provides to candidates see the [instructions available here](https://drive.google.com/open?id=18klca9Sef1Rs6q8DW4l7o349r8B70qXM).\n",
    "\n",
    "Below you can find the training data provided.  Explore the data and different optimization strategies.\n",
    "\n",
    "#### How To Test Your Strategy?\n",
    "\n",
    "When you feel like you have an optimization strategy, complete the `promotion_strategy` function to pass to the `test_results` function.  \n",
    "From past data, we know there are four possible outomes:\n",
    "\n",
    "Table of actual promotion vs. predicted promotion customers:  \n",
    "\n",
    "<table>\n",
    "<tr><th></th><th colspan = '2'>Actual</th></tr>\n",
    "<tr><th>Predicted</th><th>Yes</th><th>No</th></tr>\n",
    "<tr><th>Yes</th><td>I</td><td>II</td></tr>\n",
    "<tr><th>No</th><td>III</td><td>IV</td></tr>\n",
    "</table>\n",
    "\n",
    "The metrics are only being compared for the individuals we predict should obtain the promotion – that is, quadrants I and II.  Since the first set of individuals that receive the promotion (in the training set) receive it randomly, we can expect that quadrants I and II will have approximately equivalent participants.  \n",
    "\n",
    "Comparing quadrant I to II then gives an idea of how well your promotion strategy will work in the future. \n",
    "\n",
    "Get started by reading in the data below.  See how each variable or combination of variables along with a promotion influences the chance of purchasing.  When you feel like you have a strategy for who should receive a promotion, test your strategy against the test dataset used in the final `test_results` function."
   ]
  },
  {
   "cell_type": "code",
   "execution_count": 100,
   "metadata": {},
   "outputs": [
    {
     "data": {
      "text/html": [
       "<div>\n",
       "<style scoped>\n",
       "    .dataframe tbody tr th:only-of-type {\n",
       "        vertical-align: middle;\n",
       "    }\n",
       "\n",
       "    .dataframe tbody tr th {\n",
       "        vertical-align: top;\n",
       "    }\n",
       "\n",
       "    .dataframe thead th {\n",
       "        text-align: right;\n",
       "    }\n",
       "</style>\n",
       "<table border=\"1\" class=\"dataframe\">\n",
       "  <thead>\n",
       "    <tr style=\"text-align: right;\">\n",
       "      <th></th>\n",
       "      <th>ID</th>\n",
       "      <th>Promotion</th>\n",
       "      <th>purchase</th>\n",
       "      <th>V1</th>\n",
       "      <th>V2</th>\n",
       "      <th>V3</th>\n",
       "      <th>V4</th>\n",
       "      <th>V5</th>\n",
       "      <th>V6</th>\n",
       "      <th>V7</th>\n",
       "    </tr>\n",
       "  </thead>\n",
       "  <tbody>\n",
       "    <tr>\n",
       "      <th>0</th>\n",
       "      <td>1</td>\n",
       "      <td>No</td>\n",
       "      <td>0</td>\n",
       "      <td>2</td>\n",
       "      <td>30.443518</td>\n",
       "      <td>-1.165083</td>\n",
       "      <td>1</td>\n",
       "      <td>1</td>\n",
       "      <td>3</td>\n",
       "      <td>2</td>\n",
       "    </tr>\n",
       "    <tr>\n",
       "      <th>1</th>\n",
       "      <td>3</td>\n",
       "      <td>No</td>\n",
       "      <td>0</td>\n",
       "      <td>3</td>\n",
       "      <td>32.159350</td>\n",
       "      <td>-0.645617</td>\n",
       "      <td>2</td>\n",
       "      <td>3</td>\n",
       "      <td>2</td>\n",
       "      <td>2</td>\n",
       "    </tr>\n",
       "    <tr>\n",
       "      <th>2</th>\n",
       "      <td>4</td>\n",
       "      <td>No</td>\n",
       "      <td>0</td>\n",
       "      <td>2</td>\n",
       "      <td>30.431659</td>\n",
       "      <td>0.133583</td>\n",
       "      <td>1</td>\n",
       "      <td>1</td>\n",
       "      <td>4</td>\n",
       "      <td>2</td>\n",
       "    </tr>\n",
       "    <tr>\n",
       "      <th>3</th>\n",
       "      <td>5</td>\n",
       "      <td>No</td>\n",
       "      <td>0</td>\n",
       "      <td>0</td>\n",
       "      <td>26.588914</td>\n",
       "      <td>-0.212728</td>\n",
       "      <td>2</td>\n",
       "      <td>1</td>\n",
       "      <td>4</td>\n",
       "      <td>2</td>\n",
       "    </tr>\n",
       "    <tr>\n",
       "      <th>4</th>\n",
       "      <td>8</td>\n",
       "      <td>Yes</td>\n",
       "      <td>0</td>\n",
       "      <td>3</td>\n",
       "      <td>28.044331</td>\n",
       "      <td>-0.385883</td>\n",
       "      <td>1</td>\n",
       "      <td>1</td>\n",
       "      <td>2</td>\n",
       "      <td>2</td>\n",
       "    </tr>\n",
       "  </tbody>\n",
       "</table>\n",
       "</div>"
      ],
      "text/plain": [
       "   ID Promotion  purchase  V1         V2        V3  V4  V5  V6  V7\n",
       "0   1        No         0   2  30.443518 -1.165083   1   1   3   2\n",
       "1   3        No         0   3  32.159350 -0.645617   2   3   2   2\n",
       "2   4        No         0   2  30.431659  0.133583   1   1   4   2\n",
       "3   5        No         0   0  26.588914 -0.212728   2   1   4   2\n",
       "4   8       Yes         0   3  28.044331 -0.385883   1   1   2   2"
      ]
     },
     "execution_count": 100,
     "metadata": {},
     "output_type": "execute_result"
    }
   ],
   "source": [
    "from itertools import combinations\n",
    "\n",
    "from test_results import test_results, score\n",
    "import numpy as np\n",
    "import pandas as pd\n",
    "import scipy as sp\n",
    "import sklearn as sk\n",
    "import xgboost as xgb\n",
    "from imblearn.over_sampling import SMOTE\n",
    "from statsmodels.stats.power import NormalIndPower\n",
    "from statsmodels.stats.proportion import proportion_effectsize\n",
    "from sklearn.pipeline import Pipeline\n",
    "from sklearn.model_selection import train_test_split, GridSearchCV\n",
    "\n",
    "from sklearn.linear_model import LogisticRegression, LinearRegression\n",
    "from sklearn.pipeline import make_pipeline\n",
    "from sklearn.preprocessing import StandardScaler, MinMaxScaler\n",
    "from sklearn.ensemble import RandomForestClassifier\n",
    "from sklearn.base import BaseEstimator, TransformerMixin\n",
    "from sklearn.metrics import make_scorer\n",
    "\n",
    "\n",
    "from scipy.stats import norm\n",
    "\n",
    "import matplotlib.pyplot as plt\n",
    "import seaborn as sb\n",
    "%matplotlib inline\n",
    "# load in the data\n",
    "train_data = pd.read_csv('./training.csv')\n",
    "test_data = pd.read_csv('Test.csv')\n",
    "\n",
    "train_data.head()"
   ]
  },
  {
   "cell_type": "markdown",
   "metadata": {},
   "source": [
    "# Explore the dataset"
   ]
  },
  {
   "cell_type": "code",
   "execution_count": 39,
   "metadata": {},
   "outputs": [
    {
     "data": {
      "text/plain": [
       "Yes    42364\n",
       "No     42170\n",
       "Name: Promotion, dtype: int64"
      ]
     },
     "execution_count": 39,
     "metadata": {},
     "output_type": "execute_result"
    }
   ],
   "source": [
    "train_data.Promotion.value_counts()"
   ]
  },
  {
   "cell_type": "code",
   "execution_count": 40,
   "metadata": {},
   "outputs": [
    {
     "data": {
      "text/plain": [
       "0    83494\n",
       "1     1040\n",
       "Name: purchase, dtype: int64"
      ]
     },
     "execution_count": 40,
     "metadata": {},
     "output_type": "execute_result"
    }
   ],
   "source": [
    "train_data.purchase.value_counts()"
   ]
  },
  {
   "cell_type": "code",
   "execution_count": 41,
   "metadata": {},
   "outputs": [
    {
     "data": {
      "text/html": [
       "<div>\n",
       "<style scoped>\n",
       "    .dataframe tbody tr th:only-of-type {\n",
       "        vertical-align: middle;\n",
       "    }\n",
       "\n",
       "    .dataframe tbody tr th {\n",
       "        vertical-align: top;\n",
       "    }\n",
       "\n",
       "    .dataframe thead th {\n",
       "        text-align: right;\n",
       "    }\n",
       "</style>\n",
       "<table border=\"1\" class=\"dataframe\">\n",
       "  <thead>\n",
       "    <tr style=\"text-align: right;\">\n",
       "      <th></th>\n",
       "      <th>ID</th>\n",
       "      <th>purchase</th>\n",
       "      <th>V1</th>\n",
       "      <th>V2</th>\n",
       "      <th>V3</th>\n",
       "      <th>V4</th>\n",
       "      <th>V5</th>\n",
       "      <th>V6</th>\n",
       "      <th>V7</th>\n",
       "    </tr>\n",
       "  </thead>\n",
       "  <tbody>\n",
       "    <tr>\n",
       "      <th>count</th>\n",
       "      <td>84534.000000</td>\n",
       "      <td>84534.000000</td>\n",
       "      <td>84534.000000</td>\n",
       "      <td>84534.000000</td>\n",
       "      <td>84534.000000</td>\n",
       "      <td>84534.000000</td>\n",
       "      <td>84534.000000</td>\n",
       "      <td>84534.000000</td>\n",
       "      <td>84534.000000</td>\n",
       "    </tr>\n",
       "    <tr>\n",
       "      <th>mean</th>\n",
       "      <td>62970.972413</td>\n",
       "      <td>0.012303</td>\n",
       "      <td>1.500662</td>\n",
       "      <td>29.973600</td>\n",
       "      <td>0.000190</td>\n",
       "      <td>1.679608</td>\n",
       "      <td>2.327643</td>\n",
       "      <td>2.502898</td>\n",
       "      <td>1.701694</td>\n",
       "    </tr>\n",
       "    <tr>\n",
       "      <th>std</th>\n",
       "      <td>36418.440539</td>\n",
       "      <td>0.110234</td>\n",
       "      <td>0.868234</td>\n",
       "      <td>5.010626</td>\n",
       "      <td>1.000485</td>\n",
       "      <td>0.466630</td>\n",
       "      <td>0.841167</td>\n",
       "      <td>1.117349</td>\n",
       "      <td>0.457517</td>\n",
       "    </tr>\n",
       "    <tr>\n",
       "      <th>min</th>\n",
       "      <td>1.000000</td>\n",
       "      <td>0.000000</td>\n",
       "      <td>0.000000</td>\n",
       "      <td>7.104007</td>\n",
       "      <td>-1.684550</td>\n",
       "      <td>1.000000</td>\n",
       "      <td>1.000000</td>\n",
       "      <td>1.000000</td>\n",
       "      <td>1.000000</td>\n",
       "    </tr>\n",
       "    <tr>\n",
       "      <th>25%</th>\n",
       "      <td>31467.250000</td>\n",
       "      <td>0.000000</td>\n",
       "      <td>1.000000</td>\n",
       "      <td>26.591501</td>\n",
       "      <td>-0.905350</td>\n",
       "      <td>1.000000</td>\n",
       "      <td>2.000000</td>\n",
       "      <td>2.000000</td>\n",
       "      <td>1.000000</td>\n",
       "    </tr>\n",
       "    <tr>\n",
       "      <th>50%</th>\n",
       "      <td>62827.500000</td>\n",
       "      <td>0.000000</td>\n",
       "      <td>2.000000</td>\n",
       "      <td>29.979744</td>\n",
       "      <td>-0.039572</td>\n",
       "      <td>2.000000</td>\n",
       "      <td>2.000000</td>\n",
       "      <td>3.000000</td>\n",
       "      <td>2.000000</td>\n",
       "    </tr>\n",
       "    <tr>\n",
       "      <th>75%</th>\n",
       "      <td>94438.750000</td>\n",
       "      <td>0.000000</td>\n",
       "      <td>2.000000</td>\n",
       "      <td>33.344593</td>\n",
       "      <td>0.826206</td>\n",
       "      <td>2.000000</td>\n",
       "      <td>3.000000</td>\n",
       "      <td>4.000000</td>\n",
       "      <td>2.000000</td>\n",
       "    </tr>\n",
       "    <tr>\n",
       "      <th>max</th>\n",
       "      <td>126184.000000</td>\n",
       "      <td>1.000000</td>\n",
       "      <td>3.000000</td>\n",
       "      <td>50.375913</td>\n",
       "      <td>1.691984</td>\n",
       "      <td>2.000000</td>\n",
       "      <td>4.000000</td>\n",
       "      <td>4.000000</td>\n",
       "      <td>2.000000</td>\n",
       "    </tr>\n",
       "  </tbody>\n",
       "</table>\n",
       "</div>"
      ],
      "text/plain": [
       "                  ID      purchase            V1            V2            V3  \\\n",
       "count   84534.000000  84534.000000  84534.000000  84534.000000  84534.000000   \n",
       "mean    62970.972413      0.012303      1.500662     29.973600      0.000190   \n",
       "std     36418.440539      0.110234      0.868234      5.010626      1.000485   \n",
       "min         1.000000      0.000000      0.000000      7.104007     -1.684550   \n",
       "25%     31467.250000      0.000000      1.000000     26.591501     -0.905350   \n",
       "50%     62827.500000      0.000000      2.000000     29.979744     -0.039572   \n",
       "75%     94438.750000      0.000000      2.000000     33.344593      0.826206   \n",
       "max    126184.000000      1.000000      3.000000     50.375913      1.691984   \n",
       "\n",
       "                 V4            V5            V6            V7  \n",
       "count  84534.000000  84534.000000  84534.000000  84534.000000  \n",
       "mean       1.679608      2.327643      2.502898      1.701694  \n",
       "std        0.466630      0.841167      1.117349      0.457517  \n",
       "min        1.000000      1.000000      1.000000      1.000000  \n",
       "25%        1.000000      2.000000      2.000000      1.000000  \n",
       "50%        2.000000      2.000000      3.000000      2.000000  \n",
       "75%        2.000000      3.000000      4.000000      2.000000  \n",
       "max        2.000000      4.000000      4.000000      2.000000  "
      ]
     },
     "execution_count": 41,
     "metadata": {},
     "output_type": "execute_result"
    }
   ],
   "source": [
    "train_data.describe()"
   ]
  },
  {
   "cell_type": "code",
   "execution_count": 74,
   "metadata": {},
   "outputs": [],
   "source": [
    "def calc_irr(df):\n",
    "    \"\"\"\n",
    "    Calculate the IRR: Incremental Response Rate\n",
    "    \n",
    "    Args:\n",
    "        df: the cleaned pandas dataframe containing the experiment results\n",
    "    Return\n",
    "        the IRR (float)\n",
    "    \"\"\"\n",
    "    # How many users received the promo?\n",
    "    treatment_cust = df.Promotion.eq('Yes').sum()\n",
    "    # How many in the control group?\n",
    "    control_cust = df.Promotion.eq('No').sum()\n",
    "    \n",
    "    # How many received the promo and made the purhcase?\n",
    "    treatment_purchase = df[(df.Promotion == 'Yes') & (df.purchase == 1)].shape[0]\n",
    "    \n",
    "    # How many of the control made the purchase?\n",
    "    control_purchase = df[(df.Promotion == 'No') & (df.purchase == 1)].shape[0]\n",
    "    \n",
    "    # Hyp testing\n",
    "    # Whether they purchase or not in a Bernoulli RV 0, 1, mean is p(1-p)\n",
    "    # where p is probability of purchase (purchase rate)\n",
    "    # Under the null the treatment purchase rate is same as control purchase rate\n",
    "    p_null = control_purchase/control_cust\n",
    "    p_alt = treatment_purchase/treatment_cust\n",
    "    # Under the null the std error of the difference in rates is\n",
    "    se_null = np.sqrt(p_null*(1.0-p_null)*(1.0/control_cust + 1.0/treatment_cust))\n",
    "    irr = p_alt - p_null\n",
    "    z = irr/se_null\n",
    "    # 1 sided since interested in p_alt > p_null (another way is norm.sf (survival func: 1-cdf))\n",
    "    pval = norm.sf(z)\n",
    "    print(f'p_null was {p_null*100:.2f}% and p_alt was {p_alt*100:.2f}%')\n",
    "    print(f'The irr is {irr} (or {irr*100:.2f}%), z-value is {z} and the p-val {pval}')\n",
    "    \n",
    "    return irr, pval"
   ]
  },
  {
   "cell_type": "code",
   "execution_count": 75,
   "metadata": {},
   "outputs": [
    {
     "name": "stdout",
     "output_type": "stream",
     "text": [
      "p_null was 0.76% and p_alt was 1.70%\n",
      "The irr is 0.009454547819772702 (or 0.95%), z-value is 15.862830106831561 and the p-val 5.730531346507274e-57\n"
     ]
    },
    {
     "data": {
      "text/plain": [
       "(0.009454547819772702, 5.730531346507274e-57)"
      ]
     },
     "execution_count": 75,
     "metadata": {},
     "output_type": "execute_result"
    }
   ],
   "source": [
    "calc_irr(train_data)"
   ]
  },
  {
   "cell_type": "markdown",
   "metadata": {},
   "source": [
    "We see that there was an increased response in the experimental group that received the ad campaign, and it was a statistically signicant increase."
   ]
  },
  {
   "cell_type": "code",
   "execution_count": 76,
   "metadata": {},
   "outputs": [],
   "source": [
    "def calc_nir(df, unit_price=10, promo_cost=0.15):\n",
    "    \"\"\"\n",
    "    Calculate the NIR: Net Incremental Revenue\n",
    "    \n",
    "    Args:\n",
    "        df: the cleaned pandas dataframe containing the experiment results\n",
    "    Return\n",
    "        the NIR (float)\n",
    "    \"\"\"\n",
    "    # How many users received the promo?\n",
    "    treatment_cust = df.Promotion.eq('Yes').sum()\n",
    "    \n",
    "    # How many received the promo and made the purhcase?\n",
    "    treatment_purchase = df[(df.Promotion == 'Yes') & (df.purchase == 1)].shape[0]\n",
    "    \n",
    "    # How many of the control made the purchase?\n",
    "    control_purchase = df[(df.Promotion == 'No') & (df.purchase == 1)].shape[0]\n",
    "    \n",
    "    print(f'There are {treatment_cust} customers in the treatment group.')\n",
    "    print(f'{treatment_purchase} customers in the treatment group made a purchase.')\n",
    "    print(f'{control_purchase} customers in the control group made a purchse.')\n",
    "\n",
    "    # How much did net did we make in the treatment group vs control group\n",
    "    nir = ((unit_price*treatment_purchase)-(promo_cost*treatment_cust))-(unit_price*control_purchase)\n",
    "    print(f'The NIR was {nir}')\n",
    "    return nir"
   ]
  },
  {
   "cell_type": "code",
   "execution_count": 77,
   "metadata": {},
   "outputs": [
    {
     "name": "stdout",
     "output_type": "stream",
     "text": [
      "There are 42364 customers in the treatment group.\n",
      "721 customers in the treatment group made a purchase.\n",
      "319 customers in the control group made a purchse.\n",
      "The NIR was -2334.5999999999995\n"
     ]
    },
    {
     "data": {
      "text/plain": [
       "-2334.5999999999995"
      ]
     },
     "execution_count": 77,
     "metadata": {},
     "output_type": "execute_result"
    }
   ],
   "source": [
    "calc_nir(train_data)"
   ]
  },
  {
   "cell_type": "markdown",
   "metadata": {},
   "source": [
    "So even though there was an increased response, the net increase in revenue was actually negative; we spent more money than we gained.This motivates the need to target the ad to specific users rather than\n",
    "send it out to all of them in order to increase the IRR and NIR. We need to target a subset of the userbase that responds strongly enough to the promotion for the cost to be worthwhile\n",
    "\n",
    "We also see the dataset is quite imbalanced. We have have a few hundred puchases in tens of thousands of customers."
   ]
  },
  {
   "cell_type": "code",
   "execution_count": 5,
   "metadata": {},
   "outputs": [
    {
     "data": {
      "text/plain": [
       "((84534, 10), (41650, 10))"
      ]
     },
     "execution_count": 5,
     "metadata": {},
     "output_type": "execute_result"
    }
   ],
   "source": [
    "train_data.shape, test_data.shape"
   ]
  },
  {
   "cell_type": "markdown",
   "metadata": {},
   "source": [
    "# Linear Regression"
   ]
  },
  {
   "cell_type": "code",
   "execution_count": 90,
   "metadata": {},
   "outputs": [
    {
     "data": {
      "image/png": "[encoded data removed]",
      "text/plain": [
       "<Figure size 1728x1152 with 9 Axes>"
      ]
     },
     "metadata": {
      "needs_background": "light"
     },
     "output_type": "display_data"
    }
   ],
   "source": [
    "features = [col for col in train_data if col.startswith('V')]\n",
    "\n",
    "\n",
    "# Compare the control and experimental marginal distributions\n",
    "# for each feature\n",
    "fig, axs = plt.subplots(3, 3)\n",
    "for i, feature in enumerate(features):\n",
    "    no_promote = train_data[train_data['Promotion'] == 'No'][feature]\n",
    "    promote = train_data[train_data['Promotion'] == 'Yes'][feature]\n",
    "    ax = axs[i // 3][i % 3]\n",
    "    ax.hist([no_promote, promote])\n",
    "    ax.legend([\"No Promotion\",  \"Promotion\"])\n",
    "    ax.set_title(feature)\n",
    "fig.set_size_inches(24, 16)\n",
    "plt.suptitle(\" Distributions for All Features\", fontsize=16)\n",
    "plt.show()"
   ]
  },
  {
   "cell_type": "markdown",
   "metadata": {},
   "source": [
    "It seems that maybe V1, V2, V5, V6, V7 could be categorical. V2, V3 are not categorical. V2 needs to be standardized to a standard normal, and it looks like doing so would not result in much information loss. V3 is uniform\n",
    "and already within range -1.5 to 1.5, so we can leave it"
   ]
  },
  {
   "cell_type": "code",
   "execution_count": 92,
   "metadata": {},
   "outputs": [],
   "source": [
    "def prep_features(data):\n",
    "    data = data.copy()\n",
    "    \n",
    "    # One hot for columns that seem to be categorical\n",
    "    cat_cols = ['V1', 'V4', 'V5', 'V6', 'V7'] \n",
    "    cats = pd.get_dummies(data.loc[:, cat_cols], drop_first=True, columns=cat_cols)\n",
    "    \n",
    "    # Standard Scalar for the other features\n",
    "    data = data.drop(cat_cols, axis=1)\n",
    "\n",
    "    data[['V2']] =  StandardScaler().fit_transform(data[['V2']])\n",
    "    \n",
    "    # Concat\n",
    "    data = pd.concat([data, cats], axis=1)\n",
    "    return data"
   ]
  },
  {
   "cell_type": "code",
   "execution_count": 93,
   "metadata": {},
   "outputs": [],
   "source": [
    "# We will run a regression over the control and treatment groups sepately to see how the coefficients differ for each group\n",
    "X_promo = train_data[(train_data.Promotion == 'Yes')][features]\n",
    "y_promo = train_data[(train_data.Promotion == 'Yes')].purchase\n",
    "X_control = train_data[(train_data.Promotion == 'No')][features]\n",
    "y_control = train_data[(train_data.Promotion == 'No')].purchase\n",
    "X_promo_clean = prep_features(X_promo)\n",
    "X_control_clean = prep_features(X_control)"
   ]
  },
  {
   "cell_type": "code",
   "execution_count": 94,
   "metadata": {},
   "outputs": [
    {
     "data": {
      "text/plain": [
       "Index(['V2', 'V3', 'V1_1', 'V1_2', 'V1_3', 'V4_2', 'V5_2', 'V5_3', 'V5_4',\n",
       "       'V6_2', 'V6_3', 'V6_4', 'V7_2'],\n",
       "      dtype='object')"
      ]
     },
     "execution_count": 94,
     "metadata": {},
     "output_type": "execute_result"
    }
   ],
   "source": [
    "X_control_clean.columns"
   ]
  },
  {
   "cell_type": "code",
   "execution_count": 95,
   "metadata": {},
   "outputs": [
    {
     "data": {
      "text/plain": [
       "LinearRegression()"
      ]
     },
     "execution_count": 95,
     "metadata": {},
     "output_type": "execute_result"
    }
   ],
   "source": [
    "lr_control = LinearRegression()\n",
    "lr_promo = LinearRegression()\n",
    "lr_control.fit(X_control_clean, y_control)\n",
    "lr_promo.fit(X_promo_clean, y_promo)"
   ]
  },
  {
   "cell_type": "code",
   "execution_count": 96,
   "metadata": {},
   "outputs": [
    {
     "name": "stdout",
     "output_type": "stream",
     "text": [
      "[ 7.57885592e-06  7.11915380e-04  1.18036354e-03 -9.64160685e-04\n",
      " -3.35416110e-04  4.35380579e-04  8.33197828e-04  6.24762670e-04\n",
      "  1.37358327e-03  1.32619040e-03  3.64626481e-04  6.61281093e-05\n",
      "  8.97767368e-04]\n"
     ]
    }
   ],
   "source": [
    "print(lr_control.coef_)"
   ]
  },
  {
   "cell_type": "code",
   "execution_count": 97,
   "metadata": {},
   "outputs": [],
   "source": [
    "coeffs_df = pd.DataFrame(data={'no promotion': lr_control.coef_, 'promotion': lr_promo.coef_}, index=X_control_clean.columns)"
   ]
  },
  {
   "cell_type": "code",
   "execution_count": 98,
   "metadata": {},
   "outputs": [
    {
     "data": {
      "text/plain": [
       "[Text(0.5, 0, 'Feature'), Text(0, 0.5, 'Coefficient')]"
      ]
     },
     "execution_count": 98,
     "metadata": {},
     "output_type": "execute_result"
    },
    {
     "data": {
      "image/png": "[encoded data removed]",
      "text/plain": [
       "<Figure size 864x432 with 1 Axes>"
      ]
     },
     "metadata": {
      "needs_background": "light"
     },
     "output_type": "display_data"
    }
   ],
   "source": [
    "ax = coeffs_df.plot.bar(stacked=False, figsize=(12,6), title='Coefficient per feature')\n",
    "# set labels for both axes\n",
    "ax.set(xlabel='Feature', ylabel='Coefficient')"
   ]
  },
  {
   "cell_type": "markdown",
   "metadata": {},
   "source": [
    "It appears that the greatest difference is between V4_2, V5_2, V2_3"
   ]
  },
  {
   "cell_type": "markdown",
   "metadata": {},
   "source": [
    "# RandomForest"
   ]
  },
  {
   "cell_type": "code",
   "execution_count": 101,
   "metadata": {},
   "outputs": [],
   "source": [
    "#make new feature response where promotion is yes and purchase is also 1 (yes)\n",
    "train_data['response'] = np.where((train_data.Promotion == 'Yes') & (train_data.purchase == 1), 1, 0)"
   ]
  },
  {
   "cell_type": "code",
   "execution_count": 102,
   "metadata": {},
   "outputs": [
    {
     "data": {
      "text/html": [
       "<div>\n",
       "<style scoped>\n",
       "    .dataframe tbody tr th:only-of-type {\n",
       "        vertical-align: middle;\n",
       "    }\n",
       "\n",
       "    .dataframe tbody tr th {\n",
       "        vertical-align: top;\n",
       "    }\n",
       "\n",
       "    .dataframe thead th {\n",
       "        text-align: right;\n",
       "    }\n",
       "</style>\n",
       "<table border=\"1\" class=\"dataframe\">\n",
       "  <thead>\n",
       "    <tr style=\"text-align: right;\">\n",
       "      <th></th>\n",
       "      <th>ID</th>\n",
       "      <th>Promotion</th>\n",
       "      <th>purchase</th>\n",
       "      <th>V1</th>\n",
       "      <th>V2</th>\n",
       "      <th>V3</th>\n",
       "      <th>V4</th>\n",
       "      <th>V5</th>\n",
       "      <th>V6</th>\n",
       "      <th>V7</th>\n",
       "      <th>response</th>\n",
       "    </tr>\n",
       "  </thead>\n",
       "  <tbody>\n",
       "    <tr>\n",
       "      <th>107</th>\n",
       "      <td>162</td>\n",
       "      <td>Yes</td>\n",
       "      <td>1</td>\n",
       "      <td>1</td>\n",
       "      <td>33.030562</td>\n",
       "      <td>-0.732194</td>\n",
       "      <td>2</td>\n",
       "      <td>1</td>\n",
       "      <td>1</td>\n",
       "      <td>1</td>\n",
       "      <td>1</td>\n",
       "    </tr>\n",
       "    <tr>\n",
       "      <th>328</th>\n",
       "      <td>503</td>\n",
       "      <td>Yes</td>\n",
       "      <td>1</td>\n",
       "      <td>3</td>\n",
       "      <td>31.760033</td>\n",
       "      <td>1.518828</td>\n",
       "      <td>2</td>\n",
       "      <td>1</td>\n",
       "      <td>2</td>\n",
       "      <td>2</td>\n",
       "      <td>1</td>\n",
       "    </tr>\n",
       "    <tr>\n",
       "      <th>352</th>\n",
       "      <td>534</td>\n",
       "      <td>Yes</td>\n",
       "      <td>1</td>\n",
       "      <td>2</td>\n",
       "      <td>17.512709</td>\n",
       "      <td>1.259095</td>\n",
       "      <td>2</td>\n",
       "      <td>3</td>\n",
       "      <td>4</td>\n",
       "      <td>2</td>\n",
       "      <td>1</td>\n",
       "    </tr>\n",
       "    <tr>\n",
       "      <th>383</th>\n",
       "      <td>580</td>\n",
       "      <td>Yes</td>\n",
       "      <td>1</td>\n",
       "      <td>1</td>\n",
       "      <td>31.043736</td>\n",
       "      <td>-1.338239</td>\n",
       "      <td>2</td>\n",
       "      <td>1</td>\n",
       "      <td>2</td>\n",
       "      <td>1</td>\n",
       "      <td>1</td>\n",
       "    </tr>\n",
       "    <tr>\n",
       "      <th>443</th>\n",
       "      <td>661</td>\n",
       "      <td>Yes</td>\n",
       "      <td>1</td>\n",
       "      <td>2</td>\n",
       "      <td>26.775416</td>\n",
       "      <td>1.432250</td>\n",
       "      <td>2</td>\n",
       "      <td>3</td>\n",
       "      <td>3</td>\n",
       "      <td>2</td>\n",
       "      <td>1</td>\n",
       "    </tr>\n",
       "    <tr>\n",
       "      <th>...</th>\n",
       "      <td>...</td>\n",
       "      <td>...</td>\n",
       "      <td>...</td>\n",
       "      <td>...</td>\n",
       "      <td>...</td>\n",
       "      <td>...</td>\n",
       "      <td>...</td>\n",
       "      <td>...</td>\n",
       "      <td>...</td>\n",
       "      <td>...</td>\n",
       "      <td>...</td>\n",
       "    </tr>\n",
       "    <tr>\n",
       "      <th>84299</th>\n",
       "      <td>125803</td>\n",
       "      <td>Yes</td>\n",
       "      <td>1</td>\n",
       "      <td>3</td>\n",
       "      <td>35.496938</td>\n",
       "      <td>-0.039572</td>\n",
       "      <td>2</td>\n",
       "      <td>4</td>\n",
       "      <td>2</td>\n",
       "      <td>2</td>\n",
       "      <td>1</td>\n",
       "    </tr>\n",
       "    <tr>\n",
       "      <th>84300</th>\n",
       "      <td>125804</td>\n",
       "      <td>Yes</td>\n",
       "      <td>1</td>\n",
       "      <td>1</td>\n",
       "      <td>34.289793</td>\n",
       "      <td>0.047006</td>\n",
       "      <td>2</td>\n",
       "      <td>2</td>\n",
       "      <td>1</td>\n",
       "      <td>1</td>\n",
       "      <td>1</td>\n",
       "    </tr>\n",
       "    <tr>\n",
       "      <th>84314</th>\n",
       "      <td>125828</td>\n",
       "      <td>Yes</td>\n",
       "      <td>1</td>\n",
       "      <td>2</td>\n",
       "      <td>33.966419</td>\n",
       "      <td>1.605406</td>\n",
       "      <td>2</td>\n",
       "      <td>1</td>\n",
       "      <td>3</td>\n",
       "      <td>2</td>\n",
       "      <td>1</td>\n",
       "    </tr>\n",
       "    <tr>\n",
       "      <th>84388</th>\n",
       "      <td>125954</td>\n",
       "      <td>Yes</td>\n",
       "      <td>1</td>\n",
       "      <td>2</td>\n",
       "      <td>31.100225</td>\n",
       "      <td>-1.165083</td>\n",
       "      <td>2</td>\n",
       "      <td>3</td>\n",
       "      <td>2</td>\n",
       "      <td>1</td>\n",
       "      <td>1</td>\n",
       "    </tr>\n",
       "    <tr>\n",
       "      <th>84425</th>\n",
       "      <td>126005</td>\n",
       "      <td>Yes</td>\n",
       "      <td>1</td>\n",
       "      <td>2</td>\n",
       "      <td>32.146965</td>\n",
       "      <td>1.691984</td>\n",
       "      <td>2</td>\n",
       "      <td>3</td>\n",
       "      <td>4</td>\n",
       "      <td>2</td>\n",
       "      <td>1</td>\n",
       "    </tr>\n",
       "  </tbody>\n",
       "</table>\n",
       "<p>721 rows × 11 columns</p>\n",
       "</div>"
      ],
      "text/plain": [
       "           ID Promotion  purchase  V1         V2        V3  V4  V5  V6  V7  \\\n",
       "107       162       Yes         1   1  33.030562 -0.732194   2   1   1   1   \n",
       "328       503       Yes         1   3  31.760033  1.518828   2   1   2   2   \n",
       "352       534       Yes         1   2  17.512709  1.259095   2   3   4   2   \n",
       "383       580       Yes         1   1  31.043736 -1.338239   2   1   2   1   \n",
       "443       661       Yes         1   2  26.775416  1.432250   2   3   3   2   \n",
       "...       ...       ...       ...  ..        ...       ...  ..  ..  ..  ..   \n",
       "84299  125803       Yes         1   3  35.496938 -0.039572   2   4   2   2   \n",
       "84300  125804       Yes         1   1  34.289793  0.047006   2   2   1   1   \n",
       "84314  125828       Yes         1   2  33.966419  1.605406   2   1   3   2   \n",
       "84388  125954       Yes         1   2  31.100225 -1.165083   2   3   2   1   \n",
       "84425  126005       Yes         1   2  32.146965  1.691984   2   3   4   2   \n",
       "\n",
       "       response  \n",
       "107           1  \n",
       "328           1  \n",
       "352           1  \n",
       "383           1  \n",
       "443           1  \n",
       "...         ...  \n",
       "84299         1  \n",
       "84300         1  \n",
       "84314         1  \n",
       "84388         1  \n",
       "84425         1  \n",
       "\n",
       "[721 rows x 11 columns]"
      ]
     },
     "execution_count": 102,
     "metadata": {},
     "output_type": "execute_result"
    }
   ],
   "source": [
    "train_data[train_data['response'] == 1]"
   ]
  },
  {
   "cell_type": "code",
   "execution_count": 104,
   "metadata": {},
   "outputs": [],
   "source": [
    "X_train, X_valid, Y_train, Y_valid = train_test_split(train_data[features], train_data['response'], test_size=0.2, random_state=42)"
   ]
  },
  {
   "cell_type": "code",
   "execution_count": 105,
   "metadata": {},
   "outputs": [],
   "source": [
    "# Dataset it imbalance: upsample\n",
    "sm = SMOTE(random_state=42)\n",
    "X_train_upsamp, Y_train_upsamp = sm.fit_sample(X_train, Y_train)"
   ]
  },
  {
   "cell_type": "code",
   "execution_count": 123,
   "metadata": {},
   "outputs": [],
   "source": [
    "class RegressionTransformer(BaseEstimator, TransformerMixin):\n",
    "\n",
    "    def __init__(self, cat_cols=['V1', 'V4', 'V5', 'V6', 'V7']):\n",
    "        self.cat_cols = cat_cols\n",
    "\n",
    "    def fit(self, X, y=None):\n",
    "        self.scaler = StandardScaler()\n",
    "        self.scaler.fit(X['V2'].to_numpy().reshape(-1, 1))\n",
    "        return self\n",
    "\n",
    "    def transform(self, X):\n",
    "        cats = pd.get_dummies(X.loc[:, self.cat_cols], drop_first=True, columns=self.cat_cols)\n",
    "        X = X.drop(self.cat_cols, axis=1)\n",
    "        \n",
    "        # Don't noralize V3 as it's actually uniform\n",
    "        X['V2'] = self.scaler.transform(X['V2'].to_numpy().reshape(-1, 1))[:, 0]\n",
    "        X = pd.concat([X, cats], axis=1)\n",
    "        return X"
   ]
  },
  {
   "cell_type": "code",
   "execution_count": 110,
   "metadata": {},
   "outputs": [],
   "source": [
    "def train_pipeline(X_train, y_train):\n",
    "\n",
    "    clf = RandomForestClassifier(max_depth=5, random_state=42, n_estimators=1000)\n",
    "\n",
    "    pipeline = Pipeline([\n",
    "        ('featurizer', RegressionTransformer()),\n",
    "        ('rf', clf)\n",
    "    ]);\n",
    "    pipeline.fit(X_train, y_train)\n",
    "    return pipeline"
   ]
  },
  {
   "cell_type": "code",
   "execution_count": 111,
   "metadata": {},
   "outputs": [],
   "source": [
    "# Random forest\n",
    "# rf_pipe = make_pipeline(StandardScalar(), RandomForestClassifier())\n",
    "# rf_pipe.fit(X_train, y_train)  # apply scaling on training data\n",
    "rf_pipe = train_pipeline(X_train_upsamp, Y_train_upsamp)  # apply scaling on training data\n",
    "# clf.fit(X_train_upsamp, Y_train_upsamp)"
   ]
  },
  {
   "cell_type": "code",
   "execution_count": 112,
   "metadata": {},
   "outputs": [
    {
     "data": {
      "text/plain": [
       "0.6531022653338854"
      ]
     },
     "execution_count": 112,
     "metadata": {},
     "output_type": "execute_result"
    }
   ],
   "source": [
    "# Score on test\n",
    "rf_pipe.score(X_valid, Y_valid)  # apply scaling on testing data, without leaking training data"
   ]
  },
  {
   "cell_type": "code",
   "execution_count": 124,
   "metadata": {},
   "outputs": [
    {
     "data": {
      "text/plain": [
       "array([0, 1, 0, ..., 1, 1, 1])"
      ]
     },
     "execution_count": 124,
     "metadata": {},
     "output_type": "execute_result"
    }
   ],
   "source": [
    "rf_pipe.predict(X_valid)"
   ]
  },
  {
   "cell_type": "code",
   "execution_count": 113,
   "metadata": {},
   "outputs": [],
   "source": [
    "def promotion_strategy(df):\n",
    "    '''\n",
    "    INPUT \n",
    "    df - a dataframe with *only* the columns V1 - V7 (same as train_data)\n",
    "\n",
    "    OUTPUT\n",
    "    promotion_df - np.array with the values\n",
    "                   'Yes' or 'No' related to whether or not an \n",
    "                   individual should recieve a promotion \n",
    "                   should be the length of df.shape[0]\n",
    "                \n",
    "    Ex:\n",
    "    INPUT: df\n",
    "    \n",
    "    V1\tV2\t  V3\tV4\tV5\tV6\tV7\n",
    "    2\t30\t-1.1\t1\t1\t3\t2\n",
    "    3\t32\t-0.6\t2\t3\t2\t2\n",
    "    2\t30\t0.13\t1\t1\t4\t2\n",
    "    \n",
    "    OUTPUT: promotion\n",
    "    \n",
    "    array(['Yes', 'Yes', 'No'])\n",
    "    indicating the first two users would recieve the promotion and \n",
    "    the last should not.\n",
    "    '''\n",
    "    y_pred=rf_pipe.predict(df)\n",
    "    promotion = []\n",
    "    for pred in y_pred:\n",
    "        if pred == 1:\n",
    "            promotion.append('Yes')\n",
    "        else:\n",
    "            promotion.append('No')\n",
    "    promotion = np.array(promotion)\n",
    "    \n",
    "    return promotion"
   ]
  },
  {
   "cell_type": "code",
   "execution_count": 114,
   "metadata": {},
   "outputs": [
    {
     "name": "stdout",
     "output_type": "stream",
     "text": [
      "Nice job!  See how well your strategy worked on our test data below!\n",
      "\n",
      "Your irr with this strategy is 0.0192.\n",
      "\n",
      "Your nir with this strategy is 286.65.\n",
      "We came up with a model with an irr of 0.0188 and an nir of 189.45 on the test set.\n",
      "\n",
      " How did you do?\n"
     ]
    },
    {
     "data": {
      "text/plain": [
       "(0.01923708283229737, 286.6500000000001)"
      ]
     },
     "execution_count": 114,
     "metadata": {},
     "output_type": "execute_result"
    }
   ],
   "source": [
    "# This will test your results, and provide you back some information \n",
    "# on how well your promotion_strategy will work in practice\n",
    "\n",
    "test_results(promotion_strategy)"
   ]
  },
  {
   "cell_type": "markdown",
   "metadata": {},
   "source": [
    "## XGBoost"
   ]
  },
  {
   "cell_type": "code",
   "execution_count": 129,
   "metadata": {},
   "outputs": [
    {
     "name": "stdout",
     "output_type": "stream",
     "text": [
      "[21:48:46] WARNING: ../src/learner.cc:541: \n",
      "Parameters: { silent } might not be used.\n",
      "\n",
      "  This may not be accurate due to some parameters are only used in language bindings but\n",
      "  passed down to XGBoost core.  Or some parameters are not used but slip through this\n",
      "  verification. Please open an issue if you find above cases.\n",
      "\n",
      "\n",
      "[0]\tvalidation_0-auc:0.74629\tvalidation_1-auc:0.56087\n",
      "[1]\tvalidation_0-auc:0.77672\tvalidation_1-auc:0.56292\n",
      "[2]\tvalidation_0-auc:0.79425\tvalidation_1-auc:0.55668\n",
      "[3]\tvalidation_0-auc:0.79989\tvalidation_1-auc:0.56249\n",
      "[4]\tvalidation_0-auc:0.82484\tvalidation_1-auc:0.57844\n",
      "[5]\tvalidation_0-auc:0.83684\tvalidation_1-auc:0.57690\n",
      "[6]\tvalidation_0-auc:0.85561\tvalidation_1-auc:0.57172\n",
      "[7]\tvalidation_0-auc:0.86349\tvalidation_1-auc:0.58159\n",
      "[8]\tvalidation_0-auc:0.87377\tvalidation_1-auc:0.57987\n",
      "[9]\tvalidation_0-auc:0.87895\tvalidation_1-auc:0.57656\n",
      "[10]\tvalidation_0-auc:0.88772\tvalidation_1-auc:0.57869\n",
      "[11]\tvalidation_0-auc:0.88765\tvalidation_1-auc:0.57908\n",
      "[12]\tvalidation_0-auc:0.89013\tvalidation_1-auc:0.57737\n",
      "[13]\tvalidation_0-auc:0.89596\tvalidation_1-auc:0.57743\n",
      "[14]\tvalidation_0-auc:0.90293\tvalidation_1-auc:0.57731\n",
      "[15]\tvalidation_0-auc:0.90513\tvalidation_1-auc:0.57744\n",
      "[16]\tvalidation_0-auc:0.91277\tvalidation_1-auc:0.58042\n",
      "[17]\tvalidation_0-auc:0.91533\tvalidation_1-auc:0.58102\n",
      "[18]\tvalidation_0-auc:0.91649\tvalidation_1-auc:0.58173\n",
      "[19]\tvalidation_0-auc:0.91719\tvalidation_1-auc:0.58085\n",
      "[20]\tvalidation_0-auc:0.92155\tvalidation_1-auc:0.58321\n",
      "[21]\tvalidation_0-auc:0.92524\tvalidation_1-auc:0.58159\n",
      "[22]\tvalidation_0-auc:0.92566\tvalidation_1-auc:0.58105\n",
      "[23]\tvalidation_0-auc:0.92649\tvalidation_1-auc:0.58179\n",
      "[24]\tvalidation_0-auc:0.93642\tvalidation_1-auc:0.57827\n",
      "[25]\tvalidation_0-auc:0.94174\tvalidation_1-auc:0.57746\n",
      "[26]\tvalidation_0-auc:0.94295\tvalidation_1-auc:0.57574\n",
      "[27]\tvalidation_0-auc:0.94326\tvalidation_1-auc:0.57605\n",
      "[28]\tvalidation_0-auc:0.95006\tvalidation_1-auc:0.57518\n",
      "[29]\tvalidation_0-auc:0.95012\tvalidation_1-auc:0.57494\n",
      "[30]\tvalidation_0-auc:0.95408\tvalidation_1-auc:0.57177\n",
      "[31]\tvalidation_0-auc:0.95715\tvalidation_1-auc:0.57140\n",
      "[32]\tvalidation_0-auc:0.96282\tvalidation_1-auc:0.57161\n",
      "[33]\tvalidation_0-auc:0.96810\tvalidation_1-auc:0.57322\n",
      "[34]\tvalidation_0-auc:0.97032\tvalidation_1-auc:0.57342\n",
      "[35]\tvalidation_0-auc:0.97132\tvalidation_1-auc:0.57354\n",
      "[36]\tvalidation_0-auc:0.98225\tvalidation_1-auc:0.57594\n",
      "[37]\tvalidation_0-auc:0.98371\tvalidation_1-auc:0.57696\n",
      "[38]\tvalidation_0-auc:0.98728\tvalidation_1-auc:0.57979\n",
      "[39]\tvalidation_0-auc:0.98850\tvalidation_1-auc:0.57841\n",
      "[40]\tvalidation_0-auc:0.98848\tvalidation_1-auc:0.57868\n",
      "[41]\tvalidation_0-auc:0.99004\tvalidation_1-auc:0.57892\n",
      "[42]\tvalidation_0-auc:0.99203\tvalidation_1-auc:0.57583\n",
      "[43]\tvalidation_0-auc:0.99301\tvalidation_1-auc:0.57705\n",
      "[44]\tvalidation_0-auc:0.99384\tvalidation_1-auc:0.57904\n",
      "[45]\tvalidation_0-auc:0.99445\tvalidation_1-auc:0.57892\n",
      "[46]\tvalidation_0-auc:0.99496\tvalidation_1-auc:0.57892\n",
      "[47]\tvalidation_0-auc:0.99555\tvalidation_1-auc:0.57590\n",
      "[48]\tvalidation_0-auc:0.99581\tvalidation_1-auc:0.57467\n",
      "[49]\tvalidation_0-auc:0.99607\tvalidation_1-auc:0.57636\n"
     ]
    },
    {
     "data": {
      "text/plain": [
       "XGBClassifier(base_score=0.5, booster='gbtree', colsample_bylevel=1,\n",
       "              colsample_bynode=1, colsample_bytree=1, gamma=0.3, gpu_id=-1,\n",
       "              importance_type='gain', interaction_constraints='',\n",
       "              learning_rate=0.175, max_delta_step=0, max_depth=7,\n",
       "              min_child_weight=5, missing=nan, monotone_constraints='()',\n",
       "              n_estimators=100, n_jobs=4, num_parallel_tree=1, random_state=42,\n",
       "              reg_alpha=0, reg_lambda=1, scale_pos_weight=1, seed=42,\n",
       "              silent=True, subsample=1, tree_method='exact',\n",
       "              validate_parameters=1, verbosity=None)"
      ]
     },
     "execution_count": 129,
     "metadata": {},
     "output_type": "execute_result"
    }
   ],
   "source": [
    "# Train an xgboost model\n",
    "eval_set = [(X_train_upsamp, Y_train_upsamp), (X_valid, Y_valid)]\n",
    "model = xgb.XGBClassifier(learning_rate = 0.175,\\\n",
    "                          max_depth = 7,\\\n",
    "                          min_child_weight = 5,\\\n",
    "                          objective = 'binary:logistic',\\\n",
    "                          seed = 42,\\\n",
    "                          gamma = 0.3,\\\n",
    "                          silent = True)\n",
    "model.fit(X_train_upsamp, Y_train_upsamp, eval_set=eval_set,\\\n",
    "          eval_metric=\"auc\", verbose=True, early_stopping_rounds=30)"
   ]
  },
  {
   "cell_type": "code",
   "execution_count": 136,
   "metadata": {},
   "outputs": [
    {
     "data": {
      "image/png": "[encoded data removed]",
      "text/plain": [
       "<Figure size 720x1296 with 1 Axes>"
      ]
     },
     "metadata": {
      "needs_background": "light"
     },
     "output_type": "display_data"
    }
   ],
   "source": [
    "fig, ax = plt.subplots(figsize=(10, 18));\n",
    "from xgboost import plot_importance\n",
    "\n",
    "xgb.plot_importance(model, ax=ax);\n"
   ]
  },
  {
   "cell_type": "code",
   "execution_count": 131,
   "metadata": {},
   "outputs": [],
   "source": [
    "def promotion_strategy1(df):\n",
    "    '''\n",
    "    INPUT \n",
    "    df - a dataframe with *only* the columns V1 - V7 (same as train_data)\n",
    "\n",
    "    OUTPUT\n",
    "    promotion_df - np.array with the values\n",
    "                   'Yes' or 'No' related to whether or not an \n",
    "                   individual should recieve a promotion \n",
    "                   should be the length of df.shape[0]\n",
    "                \n",
    "    Ex:\n",
    "    INPUT: df\n",
    "    \n",
    "    V1\tV2\t  V3\tV4\tV5\tV6\tV7\n",
    "    2\t30\t-1.1\t1\t1\t3\t2\n",
    "    3\t32\t-0.6\t2\t3\t2\t2\n",
    "    2\t30\t0.13\t1\t1\t4\t2\n",
    "    \n",
    "    OUTPUT: promotion\n",
    "    \n",
    "    array(['Yes', 'Yes', 'No'])\n",
    "    indicating the first two users would recieve the promotion and \n",
    "    the last should not.\n",
    "    '''\n",
    "    \n",
    "    y_pred=model.predict(df)\n",
    "    promotion = []\n",
    "    for pred in y_pred:\n",
    "        if pred == 1:\n",
    "            promotion.append('Yes')\n",
    "        else:\n",
    "            promotion.append('No')\n",
    "    promotion = np.array(promotion)\n",
    "    \n",
    "    return promotion"
   ]
  },
  {
   "cell_type": "code",
   "execution_count": 132,
   "metadata": {},
   "outputs": [
    {
     "name": "stdout",
     "output_type": "stream",
     "text": [
      "Nice job!  See how well your strategy worked on our test data below!\n",
      "\n",
      "Your irr with this strategy is 0.0214.\n",
      "\n",
      "Your nir with this strategy is 313.25.\n",
      "We came up with a model with an irr of 0.0188 and an nir of 189.45 on the test set.\n",
      "\n",
      " How did you do?\n"
     ]
    },
    {
     "data": {
      "text/plain": [
       "(0.021353518813767878, 313.25)"
      ]
     },
     "execution_count": 132,
     "metadata": {},
     "output_type": "execute_result"
    }
   ],
   "source": [
    "test_results(promotion_strategy1)"
   ]
  }
 ],
 "metadata": {
  "kernelspec": {
   "display_name": "starbucks1-venv",
   "language": "python",
   "name": "starbucks1-venv"
  },
  "language_info": {
   "codemirror_mode": {
    "name": "ipython",
    "version": 3
   },
   "file_extension": ".py",
   "mimetype": "text/x-python",
   "name": "python",
   "nbconvert_exporter": "python",
   "pygments_lexer": "ipython3",
   "version": "3.8.3"
  }
 },
 "nbformat": 4,
 "nbformat_minor": 4
}
